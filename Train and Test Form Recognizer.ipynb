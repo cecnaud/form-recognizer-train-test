{
 "cells": [
  {
   "cell_type": "markdown",
   "metadata": {
    "Collapsed": "false"
   },
   "source": [
    "# Train and Test the Form Recognizer service\n",
    "\n",
    "Trains and tests the Form Recognizer service with your own forms, using preview version 2.0.\n",
    "\n",
    "Note that Form Recognizer has more features than shown here. Check the [documentation](https://docs.microsoft.com/en-us/azure/cognitive-services/form-recognizer) for a full overview."
   ]
  },
  {
   "cell_type": "markdown",
   "metadata": {
    "Collapsed": "false"
   },
   "source": [
    "## Prerequisites"
   ]
  },
  {
   "cell_type": "markdown",
   "metadata": {
    "Collapsed": "false"
   },
   "source": [
    "- Jupyter, Python 3.6, pandas, tabulate\n",
    "- Azure subscription\n",
    "- [Form Recognizer account](https://aka.ms/FormRecognizerRequestAccess)\n",
    "- [Azure CLI](https://docs.microsoft.com/en-us/cli/azure/install-azure-cli?view=azure-cli-latest) (don't forget to update if you haven't for a long time)\n",
    "- Train and Test files - see the [input requirements](https://docs.microsoft.com/en-us/azure/cognitive-services/form-recognizer/overview#input-requirements) for more details."
   ]
  },
  {
   "cell_type": "code",
   "execution_count": null,
   "metadata": {
    "Collapsed": "false"
   },
   "outputs": [],
   "source": [
    "import random\n",
    "import string\n",
    "import time\n",
    "import re\n",
    "import os\n",
    "import glob\n",
    "import json\n",
    "import pandas as pd\n",
    "import tabulate\n",
    "from requests import post as http_post\n",
    "from requests import delete as http_delete\n",
    "from requests import get as http_get\n",
    "from tabulate import tabulate"
   ]
  },
  {
   "cell_type": "markdown",
   "metadata": {
    "Collapsed": "false"
   },
   "source": [
    "## Configuration\n",
    "\n",
    "Note: Non-existing resources will be created."
   ]
  },
  {
   "cell_type": "code",
   "execution_count": null,
   "metadata": {
    "Collapsed": "false"
   },
   "outputs": [],
   "source": [
    "local_train_files_directory = \"Train\"\n",
    "local_test_files_directory = \"Test\"\n",
    "\n",
    "azure_region = \"westeurope\"\n",
    "resource_group = \"form-recognizer-spike\"\n",
    "storage_account = re.sub(\"[^\\d\\w]\", \"\", \"{}{}\".format(resource_group[:15], ''.join([random.choice(string.ascii_lowercase + string.digits) for n in range(8)])))\n",
    "train_container = \"train\"\n",
    "\n",
    "form_recognizer_endpoint = \"https://<add your own Form Recognizer service name here>.cognitiveservices.azure.com/\"\n",
    "form_recognizer_subscription_key = \"<add your own Form Recognizer key here>\""
   ]
  },
  {
   "cell_type": "markdown",
   "metadata": {
    "Collapsed": "false"
   },
   "source": [
    "## Initialization"
   ]
  },
  {
   "cell_type": "code",
   "execution_count": null,
   "metadata": {
    "Collapsed": "false"
   },
   "outputs": [],
   "source": [
    "train_container_url = \"https://{}.blob.core.windows.net/{}\".format(storage_account, train_container)"
   ]
  },
  {
   "cell_type": "markdown",
   "metadata": {
    "Collapsed": "false"
   },
   "source": [
    "## Document Upload\n",
    "Note: Required. As of now (Nov 2019), Form Recognizer supports only documents from a blob store. Upload can take a while."
   ]
  },
  {
   "cell_type": "code",
   "execution_count": null,
   "metadata": {
    "Collapsed": "false"
   },
   "outputs": [],
   "source": [
    "# create resource group\n",
    "!az group create --name $resource_group --location $azure_region\n",
    "\n",
    "# create storage account and training file container\n",
    "!az storage account create --name $storage_account --kind StorageV2 --resource-group $resource_group --location $azure_region\n",
    "!az storage container create --name $train_container --account-name $storage_account"
   ]
  },
  {
   "cell_type": "code",
   "execution_count": null,
   "metadata": {
    "Collapsed": "false"
   },
   "outputs": [],
   "source": [
    "# upload training files\n",
    "# note: Jupyter stucks here sometimes. if that's the case, upload the files manually, eg. using Storage Explorer\n",
    "!az storage blob upload-batch --source $local_train_files_directory --destination $train_container --account-name $storage_account"
   ]
  },
  {
   "cell_type": "code",
   "execution_count": null,
   "metadata": {
    "Collapsed": "false"
   },
   "outputs": [],
   "source": [
    "# generate SAS for training files container\n",
    "train_container_sas = !az storage container generate-sas --name $train_container --account-name $storage_account --https-only --permissions lr --expiry 2030-01-01\n",
    "train_container_sas = re.sub(r\"\\\"\", \"\", train_container_sas[0])"
   ]
  },
  {
   "cell_type": "markdown",
   "metadata": {
    "Collapsed": "false"
   },
   "source": [
    "## Training"
   ]
  },
  {
   "cell_type": "code",
   "execution_count": null,
   "metadata": {
    "Collapsed": "false"
   },
   "outputs": [],
   "source": [
    "def train_model(form_recognizer_endpoint, form_recognizer_subscription_key, train_container_url_sas):\n",
    "    try:\n",
    "        # trigger training\n",
    "        print(\"Triggering model training...\")\n",
    "        base_url = form_recognizer_endpoint + \"formrecognizer/v2.0-preview/\"\n",
    "        target_url = base_url + \"custom/models\"\n",
    "        source = train_container_url_sas\n",
    "        headers = {\n",
    "            'Content-Type': 'application/json',\n",
    "            'Ocp-Apim-Subscription-Key': form_recognizer_subscription_key,\n",
    "        }\n",
    "        body = {\n",
    "            \"source\": source\n",
    "        }\n",
    "        trigger_model_training_response = http_post(url = target_url, json = body, headers = headers)\n",
    "        if trigger_model_training_response.status_code != 201:\n",
    "             raise Exception(\"Model training failed. Got wrong status code: {}. Expected was: 201.\".format(\n",
    "                 trigger_model_training_response.status_code))\n",
    "\n",
    "\n",
    "        # wait until training is completed\n",
    "        print(\"Waiting for completion...\")\n",
    "        model_status_url = trigger_model_training_response.headers[\"location\"]\n",
    "        while True:\n",
    "            model_status_response = http_get(url = model_status_url, headers = headers)\n",
    "            model_status_response_json = model_status_response.json()\n",
    "            if model_status_response.status_code != 200:                    \n",
    "                raise Exception(\"Could not query model training status. Status Code: %s. Message:\\n%s\" %\n",
    "                                (model_status_response.status_code, json.dumps(model_status_response_json, indent=2)))\n",
    "\n",
    "            model_status = model_status_response_json[\"modelInfo\"][\"status\"]\n",
    "\n",
    "            if model_status == \"ready\":              \n",
    "                print(\"Training succeeded:\\n%s\" % json.dumps(model_status_response_json, indent=2))\n",
    "                return model_status_response_json[\"modelInfo\"][\"modelId\"]\n",
    "\n",
    "            if model_status == \"invalid\":\n",
    "                raise Exception(\"Model training failed. Response:\\n%s\" % json.dumps(model_status_response_json, indent=2))\n",
    "\n",
    "            time.sleep(2)\n",
    "    except Exception as e:\n",
    "        print(str(e))\n",
    "        raise\n",
    "\n",
    "train_container_url_sas = \"{}?{}\".format(train_container_url, train_container_sas)\n",
    "form_recognizer_model_id = train_model(form_recognizer_endpoint, form_recognizer_subscription_key, train_container_url_sas)\n",
    "print(\"\")\n",
    "print(\"Form Recognizer Model ID: {}\".format(form_recognizer_model_id))"
   ]
  },
  {
   "cell_type": "markdown",
   "metadata": {
    "Collapsed": "false"
   },
   "source": [
    "## Testing"
   ]
  },
  {
   "cell_type": "code",
   "execution_count": null,
   "metadata": {
    "Collapsed": "false"
   },
   "outputs": [],
   "source": [
    "# define function for the form analysis\n",
    "def analyze_form(form_recognizer_endpoint, form_recognizer_subscription_key, form_recognizer_model_id, file_path, file_type):\n",
    "    request_url = \"{endpoint}/formrecognizer/v2.0-preview/custom/models/{modelId}/analyze\".format(\n",
    "        endpoint = form_recognizer_endpoint,\n",
    "        modelId  = form_recognizer_model_id\n",
    "    )   \n",
    "    headers = {\n",
    "        'Content-Type': file_type,\n",
    "        'Ocp-Apim-Subscription-Key': form_recognizer_subscription_key,\n",
    "    }\n",
    "\n",
    "    try:\n",
    "        with open(file_path, \"rb\") as f:\n",
    "            data_bytes = f.read()  \n",
    "        analyze_form_response = http_post(url = request_url, data = data_bytes, headers = headers)\n",
    "\n",
    "        if analyze_form_response.status_code != 202:\n",
    "             raise Exception(\"Analysis of form failed. Got wrong status code: {}. Expected was: 202.\".format(\n",
    "                 analyze_form_response.status_code))\n",
    "               \n",
    "        analyze_form_status_url = analyze_form_response.headers[\"operation-location\"]\n",
    "        while True:\n",
    "            analyze_form_status_response = http_get(url = analyze_form_status_url, headers = headers)\n",
    "            analyze_form_status_response_json = analyze_form_status_response.json()\n",
    "            if analyze_form_status_response.status_code != 200:                    \n",
    "                raise Exception(\"Could not analyze form. Status Code: %s. Message:\\n%s\" %\n",
    "                                (analyze_form_status_response.status_code, json.dumps(analyze_form_status_response_json, indent=2)))\n",
    "\n",
    "            analyze_form_status = analyze_form_status_response_json[\"status\"]\n",
    "\n",
    "            if analyze_form_status == \"succeeded\":\n",
    "                return analyze_form_status_response_json         \n",
    "\n",
    "            if analyze_form_status == \"failed\":\n",
    "                raise Exception(\"Analysis of form failed. Response:\\n%s\" % json.dumps(analyze_form_status_response_json, indent=2))\n",
    "\n",
    "            time.sleep(1)\n",
    "    \n",
    "    except Exception as e:\n",
    "        print(str(e))\n",
    "        raise\n",
    "\n",
    "# extracts the identified key-value pairs into a Pandas dataframe\n",
    "def extract_key_value_pairs(response):\n",
    "    if response[\"status\"] == \"succeeded\":       \n",
    "        result = pd.DataFrame(columns=[\"Page\", \"Key\", \"Value\", \"Confidence\"])\n",
    "        result = result.astype({\"Page\": int, \"Key\": str, \"Value\": str, \"Confidence\": float})\n",
    "        for page in response[\"analyzeResult\"][\"pageResults\"]:\n",
    "            page_number = page[\"page\"]\n",
    "            for key_value_pair in page[\"keyValuePairs\"]:\n",
    "                page = page_number\n",
    "                key = key_value_pair[\"key\"][\"text\"]\n",
    "                value = key_value_pair[\"value\"][\"text\"]\n",
    "                confidence = key_value_pair[\"confidence\"]\n",
    "                result = result.append(pd.DataFrame({\"Page\": [page], \"Key\": [key], \"Value\": [value],\n",
    "                                                     \"Confidence\": [confidence]}), ignore_index=True, sort=False)\n",
    "        return result\n",
    "\n",
    "# extracts the identified tables into a list of dataframes\n",
    "def extract_tables(response):\n",
    "    if response[\"status\"] == \"succeeded\":\n",
    "        for page in response[\"analyzeResult\"][\"pageResults\"]:\n",
    "            page_number = page[\"page\"]\n",
    "            for table in page[\"tables\"]:\n",
    "                # create dataframe from extracted data\n",
    "                table_df = pd.DataFrame(table[\"cells\"])[\n",
    "                    [\"rowIndex\", \"columnIndex\", \"text\", \"isHeader\", \"isFooter\", \"rowSpan\", \"columnSpan\", \"confidence\"]]\n",
    "                table_df.columns = [column_name[0].upper() + column_name[1:] for column_name in table_df.columns]\n",
    "                                \n",
    "                # add page number as first column            \n",
    "                table_df[\"Page\"] = page_number\n",
    "                cols = table_df.columns.tolist()\n",
    "                cols.insert(0, cols.pop(cols.index(\"Page\")))\n",
    "                table_df = table_df.reindex(columns=cols)\n",
    "\n",
    "                # yield table\n",
    "                yield table_df\n",
    "\n",
    "# iterate through all relevant files in the test directory and submit each file to Form Recognizer\n",
    "file_type_mapping = {\n",
    "    \"pdf\": \"application/pdf\",\n",
    "    \"png\": \"application/png\",\n",
    "    \"jpg\": \"application/jpeg\"\n",
    "}\n",
    "for file_path in glob.iglob(local_test_files_directory + \"/**/*\", recursive=True):\n",
    "    file_extension = os.path.splitext(file_path)[1][1:].lower()\n",
    "    if file_extension in [\"pdf\", \"png\", \"jpg\"]:\n",
    "        file_type = file_type_mapping[file_extension]\n",
    "\n",
    "        extracted_data = analyze_form(form_recognizer_endpoint, form_recognizer_subscription_key,\n",
    "            form_recognizer_model_id, file_path, file_type)\n",
    "        \n",
    "        print(\"File: {}\".format(file_path))\n",
    "        \n",
    "        # remove comments to show full JSON response \n",
    "        #print(\"Response:\")\n",
    "        #print(json.dumps(extracted_data, indent=2))\n",
    "        \n",
    "        print(\"\")\n",
    "        print(\"Extracted Key-Value Pairs:\")\n",
    "        print(tabulate(extract_key_value_pairs(extracted_data), headers='keys', tablefmt='plain', showindex=\"never\"))\n",
    "\n",
    "        print(\"\")\n",
    "        print(\"Extracted Tables:\")\n",
    "        for extracted_table in extract_tables(extracted_data):\n",
    "            print(tabulate(extracted_table, headers='keys', tablefmt='plain', showindex=\"never\"))\n",
    "            print(\"\")\n",
    "\n",
    "        print(\"\")\n",
    "        print(\"---\")\n",
    "        print(\"\")\n",
    "\n",
    "    else:\n",
    "        continue"
   ]
  },
  {
   "cell_type": "markdown",
   "metadata": {
    "Collapsed": "false"
   },
   "source": [
    "## Cleanup"
   ]
  },
  {
   "cell_type": "code",
   "execution_count": null,
   "metadata": {
    "Collapsed": "false"
   },
   "outputs": [],
   "source": [
    "# define function to delete a model\n",
    "def delete_model(form_recognizer_endpoint, form_recognizer_subscription_key, form_recognizer_model_id):\n",
    "    # model URL\n",
    "    model_url = form_recognizer_endpoint + \"/formrecognizer/v2.0-preview/custom/models/\" + form_recognizer_model_id\n",
    "    headers = {\n",
    "        'Ocp-Apim-Subscription-Key': form_recognizer_subscription_key\n",
    "    }\n",
    "\n",
    "    try:\n",
    "        delete_model_response = http_delete(url = model_url, headers = headers)\n",
    "    except Exception as e:\n",
    "        print(str(e))\n",
    "        \n",
    "def delete_all_models(form_recognizer_endpoint, form_recognizer_subscription_key):\n",
    "    list_models_url = \"{endpoint}/formrecognizer/v2.0-preview/custom/models\".format(endpoint=form_recognizer_endpoint)\n",
    "    headers = {\n",
    "        'Ocp-Apim-Subscription-Key': form_recognizer_subscription_key\n",
    "    }\n",
    "\n",
    "    try:\n",
    "        list_models_response = http_get(url = list_models_url, headers = headers)\n",
    "        list_models_response_json = list_models_response.json()\n",
    "        \n",
    "        for model in list_models_response_json[\"modelList\"]:\n",
    "            delete_model(form_recognizer_endpoint, form_recognizer_subscription_key, model[\"modelId\"])\n",
    "            \n",
    "    except Exception as e:\n",
    "        print(str(e))\n",
    "        \n",
    "delete_model(form_recognizer_endpoint, form_recognizer_subscription_key, form_recognizer_model_id)\n",
    "\n",
    "## alternatively, delete all models from the service\n",
    "## uncomment if needed\n",
    "#delete_all_models(form_recognizer_endpoint, form_recognizer_subscription_key)"
   ]
  },
  {
   "cell_type": "code",
   "execution_count": null,
   "metadata": {
    "Collapsed": "false"
   },
   "outputs": [],
   "source": [
    "# delete resource group in Azure\n",
    "!az group delete --name $resource_group --yes"
   ]
  }
 ],
 "metadata": {
  "kernelspec": {
   "display_name": "Python 3",
   "language": "python",
   "name": "python3"
  },
  "language_info": {
   "codemirror_mode": {
    "name": "ipython",
    "version": 3
   },
   "file_extension": ".py",
   "mimetype": "text/x-python",
   "name": "python",
   "nbconvert_exporter": "python",
   "pygments_lexer": "ipython3",
   "version": "3.6.7"
  }
 },
 "nbformat": 4,
 "nbformat_minor": 4
}
