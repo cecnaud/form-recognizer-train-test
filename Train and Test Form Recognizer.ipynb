{
 "cells": [
  {
   "cell_type": "markdown",
   "metadata": {},
   "source": [
    "# Train and Test the Form Recognizer service\n",
    "\n",
    "Trains and tests the Form Recognizer service with your own forms. Note that there is also a prebuilt model for receipts. See [here](https://docs.microsoft.com/en-us/azure/cognitive-services/form-recognizer/quickstarts/python-receipts) for more infos."
   ]
  },
  {
   "cell_type": "markdown",
   "metadata": {},
   "source": [
    "## Prerequisites"
   ]
  },
  {
   "cell_type": "markdown",
   "metadata": {},
   "source": [
    "- Jupyter, Python 3.6, pandas, tabulate\n",
    "- Azure subscription\n",
    "- [Form Recognizer account](https://aka.ms/FormRecognizerRequestAccess)\n",
    "- [Azure CLI](https://docs.microsoft.com/en-us/cli/azure/install-azure-cli?view=azure-cli-latest) (don't forget to update if you haven't for a long time)\n",
    "- Train and Test files - see [here](https://docs.microsoft.com/en-us/azure/cognitive-services/form-recognizer/quickstarts/python-train-extract#train-a-form-recognizer-model) for current details\n",
    "    * Training documents should have the same type/structure\n",
    "    * At least 5 documents or 2 and an empty form\n",
    "    * Max. 50 training pages"
   ]
  },
  {
   "cell_type": "code",
   "execution_count": null,
   "metadata": {},
   "outputs": [],
   "source": [
    "import random\n",
    "import string\n",
    "import re\n",
    "import os\n",
    "import glob\n",
    "import json\n",
    "import pandas as pd\n",
    "import tabulate\n",
    "from requests import post as http_post\n",
    "from requests import delete as http_delete\n",
    "from tabulate import tabulate"
   ]
  },
  {
   "cell_type": "markdown",
   "metadata": {},
   "source": [
    "## Configuration\n",
    "\n",
    "Note: Non-existing resources will be created."
   ]
  },
  {
   "cell_type": "code",
   "execution_count": null,
   "metadata": {},
   "outputs": [],
   "source": [
    "local_train_files_directory = \"Train\"\n",
    "local_test_files_directory = \"Test\"\n",
    "\n",
    "azure_region = \"westeurope\"\n",
    "resource_group = \"form-recognizer-spike\"\n",
    "storage_account = re.sub(\"[^\\d\\w]\", \"\", \"{}{}\".format(resource_group[:15], ''.join([random.choice(string.ascii_lowercase + string.digits) for n in range(8)])))\n",
    "train_container = \"train\"\n",
    "\n",
    "form_recognizer_endpoint = \"https://<add your own Form Recognizer service name here>.cognitiveservices.azure.com/\"\n",
    "form_recognizer_subscription_key = \"<add your own Form Recognizer key here>\""
   ]
  },
  {
   "cell_type": "markdown",
   "metadata": {},
   "source": [
    "## Initialization"
   ]
  },
  {
   "cell_type": "code",
   "execution_count": null,
   "metadata": {},
   "outputs": [],
   "source": [
    "train_container_url = \"https://{}.blob.core.windows.net/{}\".format(storage_account, train_container)"
   ]
  },
  {
   "cell_type": "markdown",
   "metadata": {},
   "source": [
    "## Document Upload\n",
    "Note: Required. As of now (Nov 2019), Form Recognizer supports only documents from a blob store. Upload can take a while."
   ]
  },
  {
   "cell_type": "code",
   "execution_count": null,
   "metadata": {},
   "outputs": [],
   "source": [
    "# create resource group\n",
    "!az group create --name $resource_group --location $azure_region\n",
    "\n",
    "# create storage account and training file container\n",
    "!az storage account create --name $storage_account --kind StorageV2 --resource-group $resource_group --location $azure_region\n",
    "!az storage container create --name $train_container --account-name $storage_account"
   ]
  },
  {
   "cell_type": "code",
   "execution_count": null,
   "metadata": {},
   "outputs": [],
   "source": [
    "# upload training files\n",
    "# note: Jupyter stucks here sometimes. if that's the case, upload the files manually, eg. using Storage Explorer\n",
    "!az storage blob upload-batch --source $local_train_files_directory --destination $train_container --account-name $storage_account"
   ]
  },
  {
   "cell_type": "code",
   "execution_count": null,
   "metadata": {},
   "outputs": [],
   "source": [
    "# generate SAS for training files container\n",
    "train_container_sas = !az storage container generate-sas --name $train_container --account-name $storage_account --https-only --permissions lr --expiry 2030-01-01\n",
    "train_container_sas = re.sub(r\"\\\"\", \"\", train_container_sas[0])"
   ]
  },
  {
   "cell_type": "markdown",
   "metadata": {},
   "source": [
    "## Training"
   ]
  },
  {
   "cell_type": "code",
   "execution_count": null,
   "metadata": {},
   "outputs": [],
   "source": [
    "def train_model(form_recognizer_endpoint, form_recognizer_subscription_key, train_container_url_sas):\n",
    "    base_url = form_recognizer_endpoint + \"/formrecognizer/v1.0-preview/custom\"\n",
    "    source = train_container_url_sas\n",
    "    headers = {\n",
    "        'Content-Type': 'application/json',\n",
    "        'Ocp-Apim-Subscription-Key': form_recognizer_subscription_key,\n",
    "    }\n",
    "    url = base_url + \"/train\" \n",
    "    body = {\"source\": source}\n",
    "    try:\n",
    "        resp = http_post(url = url, json = body, headers = headers)\n",
    "        resp_json = resp.json()\n",
    "        print(\"Response status code: %d\" % resp.status_code)\n",
    "        print(\"Response body:\")\n",
    "        print(json.dumps(resp_json, indent=2))\n",
    "        return resp_json[\"modelId\"] if \"modelId\" in resp_json else None\n",
    "    except Exception as e:\n",
    "        print(str(e))\n",
    "\n",
    "train_container_url_sas = \"{}?{}\".format(train_container_url, train_container_sas)\n",
    "form_recognizer_model_id = train_model(form_recognizer_endpoint, form_recognizer_subscription_key, train_container_url_sas)\n",
    "print(\"\")\n",
    "print(\"Form Recognizer Model ID: {}\".format(form_recognizer_model_id))"
   ]
  },
  {
   "cell_type": "markdown",
   "metadata": {},
   "source": [
    "## Testing"
   ]
  },
  {
   "cell_type": "code",
   "execution_count": null,
   "metadata": {},
   "outputs": [],
   "source": [
    "# define extraction function\n",
    "def extract_data(form_recognizer_endpoint, form_recognizer_subscription_key, form_recognizer_model_id, file_path, file_type):\n",
    "    # Endpoint URL\n",
    "    base_url = form_recognizer_endpoint + \"/formrecognizer/v1.0-preview/custom\"\n",
    "    model_id = form_recognizer_model_id\n",
    "    headers = {\n",
    "        # Request headers\n",
    "        'Content-Type': file_type,\n",
    "        'Ocp-Apim-Subscription-Key': form_recognizer_subscription_key,\n",
    "    }\n",
    "\n",
    "    try:\n",
    "        url = base_url + \"/models/\" + model_id + \"/analyze\" \n",
    "        with open(file_path, \"rb\") as f:\n",
    "            data_bytes = f.read()  \n",
    "        resp = http_post(url = url, data = data_bytes, headers = headers)\n",
    "        return resp.status_code, resp.json()        \n",
    "    except Exception as e:\n",
    "        print(str(e))\n",
    "\n",
    "# extracts the identified key-value pairs into a Pandas dataframe\n",
    "def extract_key_value_pairs(response):\n",
    "    if response[\"status\"] == \"success\":\n",
    "        result = pd.DataFrame(columns=[\"Page\", \"Key\", \"Value\"])\n",
    "        result = result.astype({\"Page\": int, \"Key\": str, \"Value\": str})\n",
    "        for page in response[\"pages\"]:\n",
    "            page_number = page[\"number\"]\n",
    "            for key_value_pair in page[\"keyValuePairs\"]:\n",
    "                page = page_number\n",
    "                key = \" \".join([value[\"text\"] for value in key_value_pair[\"key\"]])\n",
    "                value = \" \".join([value[\"text\"] for value in key_value_pair[\"value\"]])\n",
    "                result = result.append(pd.DataFrame({\"Page\": [page], \"Key\": [key], \"Value\": [value]}), ignore_index=True, sort=False)\n",
    "        return result\n",
    "\n",
    "# extracts the identified tables into a list of dataframes\n",
    "def extract_tables(response):\n",
    "    if response[\"status\"] == \"success\":\n",
    "        for page in response[\"pages\"]:\n",
    "            page_number = page[\"number\"]\n",
    "            for table in page[\"tables\"]:\n",
    "                # create data frame\n",
    "                table_df = pd.DataFrame(        \n",
    "                    {\n",
    "                        \" \".join([header_element[\"text\"] for header_element in column[\"header\"]]) :\n",
    "                            [\" \".join([sub_entry_element[\"text\"] for sub_entry_element in entry_element]) for entry_element in column[\"entries\"]]\n",
    "                        for column in table[\"columns\"]\n",
    "                    })\n",
    "                # add page number as first column            \n",
    "                table_df[\"Page\"] = page_number\n",
    "                cols = table_df.columns.tolist()\n",
    "                cols.insert(0, cols.pop(cols.index(\"Page\")))\n",
    "                table_df = table_df.reindex(columns=cols)\n",
    "\n",
    "                # yield table\n",
    "                yield table_df\n",
    "\n",
    "# iterate through all relevant files in the test directory and submit each file to Form Recognizer\n",
    "file_type_mapping = {\n",
    "    \"pdf\": \"application/pdf\",\n",
    "    \"png\": \"application/png\",\n",
    "    \"jpg\": \"application/jpeg\"\n",
    "}\n",
    "for file_path in glob.iglob(local_test_files_directory + \"/**/*\", recursive=True):\n",
    "    file_extension = os.path.splitext(file_path)[1][1:].lower()\n",
    "    if file_extension in [\"pdf\", \"png\", \"jpg\"]:\n",
    "        file_type = file_type_mapping[file_extension]\n",
    "\n",
    "        status_code, extracted_data = extract_data(form_recognizer_endpoint, form_recognizer_subscription_key,\n",
    "            form_recognizer_model_id, file_path, file_type)\n",
    "        \n",
    "        print(\"File: {}\".format(file_path))\n",
    "        \n",
    "        # remove comments to show full JSON response \n",
    "        #print(\"Response:\")\n",
    "        #print(json.dumps(extracted_data, indent=2))\n",
    "        \n",
    "        if status_code == 200:\n",
    "            print(\"\")\n",
    "            print(\"Extracted Key-Value Pairs:\")\n",
    "            print(tabulate(extract_key_value_pairs(extracted_data), headers='keys', tablefmt='psql', showindex=\"never\"))\n",
    "            \n",
    "            print(\"\")\n",
    "            print(\"Extracted Tables:\")\n",
    "            for extracted_table in extract_tables(extracted_data):\n",
    "                print(tabulate(extracted_table, headers='keys', tablefmt='psql', showindex=\"never\"))\n",
    "        else:\n",
    "            print(json.dumps(extracted_data, indent=2))\n",
    "\n",
    "        print(\"\")\n",
    "        print(\"\")\n",
    "    else:\n",
    "        continue"
   ]
  },
  {
   "cell_type": "markdown",
   "metadata": {},
   "source": [
    "## Cleanup"
   ]
  },
  {
   "cell_type": "code",
   "execution_count": null,
   "metadata": {},
   "outputs": [],
   "source": [
    "# define function to delete a model\n",
    "def delete_model(form_recognizer_endpoint, form_recognizer_subscription_key, form_recognizer_model_id):\n",
    "    # model URL\n",
    "    model_url = form_recognizer_endpoint + \"/formrecognizer/v1.0-preview/custom/models/\" + form_recognizer_model_id\n",
    "    headers = {\n",
    "        # Request headers\n",
    "        'Ocp-Apim-Subscription-Key': form_recognizer_subscription_key\n",
    "    }\n",
    "\n",
    "    try:\n",
    "        resp = http_delete(url = model_url, headers = headers)\n",
    "        print(\"Response status code: %d\" % resp.status_code)\n",
    "        try:\n",
    "            resp_body = json.dumps(resp.json(), indent=2)\n",
    "            print(\"Response body:\")\n",
    "            print(resp_body)\n",
    "            return resp.json()\n",
    "        except:\n",
    "            return None\n",
    "    except Exception as e:\n",
    "        print(str(e))\n",
    "        \n",
    "delete_model(form_recognizer_endpoint, form_recognizer_subscription_key, form_recognizer_model_id)"
   ]
  },
  {
   "cell_type": "code",
   "execution_count": null,
   "metadata": {},
   "outputs": [],
   "source": [
    "# delete resource group in Azure\n",
    "!az group delete --name $resource_group --yes"
   ]
  }
 ],
 "metadata": {
  "kernelspec": {
   "display_name": "Python 3",
   "language": "python",
   "name": "python3"
  },
  "language_info": {
   "codemirror_mode": {
    "name": "ipython",
    "version": 3
   },
   "file_extension": ".py",
   "mimetype": "text/x-python",
   "name": "python",
   "nbconvert_exporter": "python",
   "pygments_lexer": "ipython3",
   "version": "3.6.7"
  }
 },
 "nbformat": 4,
 "nbformat_minor": 4
}
